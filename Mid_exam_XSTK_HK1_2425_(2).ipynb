{
  "cells": [
    {
      "cell_type": "markdown",
      "metadata": {
        "id": "view-in-github",
        "colab_type": "text"
      },
      "source": [
        "<a href=\"https://colab.research.google.com/github/nguyenthean38/duan123/blob/main/Mid_exam_XSTK_HK1_2425_(2).ipynb\" target=\"_parent\"><img src=\"https://colab.research.google.com/assets/colab-badge.svg\" alt=\"Open In Colab\"/></a>"
      ]
    },
    {
      "cell_type": "markdown",
      "id": "cce286c1",
      "metadata": {
        "id": "cce286c1"
      },
      "source": [
        "# MIDTERM ESSAY\n",
        "# Applied Probability and Statistics for Information Technology"
      ]
    },
    {
      "cell_type": "markdown",
      "id": "b14158d0",
      "metadata": {
        "id": "b14158d0"
      },
      "source": [
        "**STUDENT'S NAME:**\n",
        "\n",
        "**STUDENT ID:**\n",
        "\n",
        "**CLASS and GROUP:**\n",
        "\n",
        "Students submit this jupyter notebook presenting your solution and coding. Students giving correct solutions by using Markdown and typing your codes.\n",
        "\n",
        "Save and submit only 1 file as: Student name_StudentID.ipynb (Example: TranVanAn_203456.ipynb)\n",
        "\n",
        "You should solve and submit this report to your theory Google classroom within 14 days, from the beginning of Oct 29th 2024 to the end of Nov 11th 2024. Late submissions are not accepted. Submissions via email are not accepted.\n",
        "\n",
        "This is an individual final report. NOT ALLOWED TO USE GOOGLE, CHATGPT, etc for copying similar solutions and codes. Any case of plagiarism will get 0."
      ]
    },
    {
      "cell_type": "markdown",
      "id": "a664cb93",
      "metadata": {
        "id": "a664cb93"
      },
      "source": [
        "# Question 1: (2 points)\n",
        "A closed urn has 23 balls: 8 white, 6 blue and 9 red."
      ]
    },
    {
      "cell_type": "code",
      "execution_count": null,
      "id": "1Tek23oVj82m",
      "metadata": {
        "id": "1Tek23oVj82m"
      },
      "outputs": [],
      "source": [
        "def cross(A, n):\n",
        "    return {a+str(b+1) for a in A for b in range(n)}\n",
        "\n",
        "urn = cross('W', 8) | cross('B', 6) | cross('R', 9)"
      ]
    },
    {
      "cell_type": "markdown",
      "id": "qoMqhaCnj7vb",
      "metadata": {
        "id": "qoMqhaCnj7vb"
      },
      "source": [
        "Randomly select ***x*** balls\n",
        "(know that each ball has the same probability of selection).\n",
        "\n",
        "Use two last digits in your Student ID to get value x.\n",
        "\n",
        "For example: Student ID: 0412347 => 47"
      ]
    },
    {
      "cell_type": "code",
      "execution_count": 3,
      "id": "9cagGoCThyPE",
      "metadata": {
        "id": "9cagGoCThyPE",
        "colab": {
          "base_uri": "https://localhost:8080/"
        },
        "outputId": "d3b1deb9-8ca9-41ea-d0ac-4dc386a4b5fa"
      },
      "outputs": [
        {
          "output_type": "stream",
          "name": "stdout",
          "text": [
            "6\n"
          ]
        }
      ],
      "source": [
        "def get_x(n):\n",
        "    return int(( n / 99 ) * 4 + 6)\n",
        "x = get_x(int(\"03\"))\n",
        "print(x)"
      ]
    },
    {
      "cell_type": "markdown",
      "id": "OJt9oFHGn4K_",
      "metadata": {
        "id": "OJt9oFHGn4K_"
      },
      "source": [
        "Find a list of all possible ***x*** balls and assign to variable $U$."
      ]
    },
    {
      "cell_type": "code",
      "execution_count": 9,
      "id": "c2Ep8zUsn8wG",
      "metadata": {
        "id": "c2Ep8zUsn8wG",
        "colab": {
          "base_uri": "https://localhost:8080/"
        },
        "outputId": "8f0cea6f-8486-4809-e15d-f588bd97b700"
      },
      "outputs": [
        {
          "output_type": "stream",
          "name": "stdout",
          "text": [
            "[1, 2, 3, 4, 5, 6]\n"
          ]
        }
      ],
      "source": [
        "# your code\n",
        "# U =\n",
        "def get_x(n):\n",
        "    return int(( n / 99 ) * 4 + 6)\n",
        "x = get_x(int(\"03\"))\n",
        "U=list(range(1,x+1))\n",
        "print(U)"
      ]
    },
    {
      "cell_type": "markdown",
      "id": "lh6Z36t9is-y",
      "metadata": {
        "id": "lh6Z36t9is-y"
      },
      "source": [
        "Let *X* represent the random variable corresponding to the number of red balls in ***x*** balls.\n",
        "\n",
        "Let *Y* represent the random variable corresponding to the number of white balls in ***x*** balls.\n",
        "\n",
        "Compute the probability:\n",
        "$P(X=3|Y=1)$ (present the steps along with illustrative code)."
      ]
    },
    {
      "cell_type": "code",
      "execution_count": 26,
      "id": "a49a15c2",
      "metadata": {
        "id": "a49a15c2",
        "colab": {
          "base_uri": "https://localhost:8080/"
        },
        "outputId": "3016aedc-3062-4170-dbdb-85a8cd09780d"
      },
      "outputs": [
        {
          "output_type": "stream",
          "name": "stdout",
          "text": [
            "Tổng số cách chọn 6 bóng từ 10 bóng là: 210\n",
            "Số cách chọn 3 bóng đỏ từ 7 bóng đỏ là: 35\n",
            "Số cách chọn 1 bóng trắng từ 3 bóng trắng là: 3\n",
            "Số cách chọn 3 bóng đỏ và 1 bóng trắng từ tổng số bóng là: 105\n",
            "Xác suất chọn được 3 bóng đỏ và 1 bóng trắng trong 6 bóng là: 0.5\n",
            "Xác suất chọn được 1 bóng trắng trong 6 bóng là: 0.3\n",
            "Xác suất có điều kiện P(X = 3 | Y = 1) là: 1.6666666666666667\n"
          ]
        }
      ],
      "source": [
        "# your code\n",
        "#hàm tính\n",
        "def get_x(n):\n",
        "      return int(( n / 99 ) * 4 + 6)\n",
        "x = get_x(int(\"03\"))\n",
        "# Hàm tính giai thừa\n",
        "def factorial(n):\n",
        "    result = 1\n",
        "    for i in range(1, n + 1):\n",
        "        result *= i\n",
        "    return result\n",
        "\n",
        "# Hàm tự tính tổ hợp\n",
        "def combination(n, k):\n",
        "    return factorial(n) // (factorial(k) * factorial(n - k))\n",
        "\n",
        "# Bước 1: Xác định các tham số\n",
        "total_balls = 10      # Tổng số bóng\n",
        "red_balls = 7         # Số bóng đỏ\n",
        "white_balls = 3       # Số bóng trắng               # Số bóng cần chọn\n",
        "required_red = 3      # Số bóng đỏ mong muốn trong lựa chọn\n",
        "required_white = 1    # Số bóng trắng mong muốn trong lựa chọn\n",
        "\n",
        "# Bước 2: Tính tổng số cách chọn x bóng từ total_balls bóng\n",
        "total_ways = combination(total_balls, x)\n",
        "print(f\"Tổng số cách chọn {x} bóng từ {total_balls} bóng là: {total_ways}\")\n",
        "\n",
        "# Bước 3: Tính số cách chọn 3 bóng đỏ từ 7 bóng đỏ\n",
        "ways_to_choose_red = combination(red_balls, required_red)\n",
        "print(f\"Số cách chọn {required_red} bóng đỏ từ {red_balls} bóng đỏ là: {ways_to_choose_red}\")\n",
        "\n",
        "# Bước 4: Tính số cách chọn 1 bóng trắng từ 3 bóng trắng\n",
        "ways_to_choose_white = combination(white_balls, required_white)\n",
        "print(f\"Số cách chọn {required_white} bóng trắng từ {white_balls} bóng trắng là: {ways_to_choose_white}\")\n",
        "\n",
        "# Bước 5: Tính số cách chọn 3 bóng đỏ và 1 bóng trắng từ tổng số bóng\n",
        "ways_to_get_desired_combination = ways_to_choose_red * ways_to_choose_white\n",
        "print(f\"Số cách chọn 3 bóng đỏ và 1 bóng trắng từ tổng số bóng là: {ways_to_get_desired_combination}\")\n",
        "\n",
        "# Bước 6: Tính xác suất của sự kiện (có 3 bóng đỏ và 1 bóng trắng trong lựa chọn)\n",
        "p_x_and_y = ways_to_get_desired_combination / total_ways\n",
        "print(f\"Xác suất chọn được 3 bóng đỏ và 1 bóng trắng trong {x} bóng là: {p_x_and_y}\")\n",
        "\n",
        "# Bước 7: Tính xác suất P(Y = 1)\n",
        "# Số cách chọn 1 bóng trắng từ tổng 3 bóng trắng và (x - 1) bóng còn lại từ bóng đỏ\n",
        "ways_to_choose_y_equals_1 = combination(white_balls, 1) * combination(red_balls, x - 1)\n",
        "p_y_equals_1 = ways_to_choose_y_equals_1 / total_ways\n",
        "print(f\"Xác suất chọn được 1 bóng trắng trong {x} bóng là: {p_y_equals_1}\")\n",
        "\n",
        "# Bước 8: Tính xác suất có điều kiện P(X = 3 | Y = 1)\n",
        "p_x_given_y = p_x_and_y / p_y_equals_1\n",
        "print(f\"Xác suất có điều kiện P(X = 3 | Y = 1) là: {p_x_given_y}\")\n",
        "\n",
        "\n",
        "\n",
        "\n",
        "\n",
        "\n"
      ]
    },
    {
      "cell_type": "markdown",
      "id": "631919a6",
      "metadata": {
        "id": "631919a6"
      },
      "source": [
        "# Question 2: (3 points)\n",
        "\n",
        "Study the statistical functions from the *scipy* library to solve the following questions.\n",
        "\n",
        "**For each question, it is necessary to present the corresponding function, including its prototype, input, output, and the meaning of its parameters.** (1 point)"
      ]
    },
    {
      "cell_type": "markdown",
      "id": "f5f9bf53",
      "metadata": {
        "id": "f5f9bf53"
      },
      "source": [
        "**2.1 (0.5 point):** Consider a random variable that follows normal distribution with mean 6 and variance 12. Calculate:\n",
        "\n",
        "a) $P(X < 2)$\n",
        "\n",
        "b) $P(4 \\leq X \\leq 8)$"
      ]
    },
    {
      "cell_type": "code",
      "execution_count": 27,
      "id": "9e46cffa",
      "metadata": {
        "id": "9e46cffa",
        "colab": {
          "base_uri": "https://localhost:8080/"
        },
        "outputId": "873c1fbe-5f04-4d89-ca41-9789e948fc8e"
      },
      "outputs": [
        {
          "output_type": "stream",
          "name": "stdout",
          "text": [
            "P(X < 2) = 0.12413514975869187\n",
            "P(4 <= X <= 8) = 0.4362971358994791\n"
          ]
        }
      ],
      "source": [
        "# your code\n",
        "import math\n",
        "\n",
        "# Các tham số của phân phối chuẩn\n",
        "trung_binh = 6\n",
        "phuong_sai = 12\n",
        "do_lech_chuan = math.sqrt(phuong_sai)\n",
        "\n",
        "# Hàm mật độ xác suất (PDF) cho phân phối chuẩn\n",
        "def ham_mat_do(x, trung_binh, do_lech_chuan):\n",
        "    return (1 / (do_lech_chuan * math.sqrt(2 * math.pi))) * math.exp(-0.5 * ((x - trung_binh) / do_lech_chuan) ** 2)\n",
        "\n",
        "# Hàm tính xấp xỉ hàm phân phối tích lũy (CDF) bằng phương pháp tổng hình thang\n",
        "def ham_phan_phoi_tich_luy(x, trung_binh, do_lech_chuan, buoc=0.001):\n",
        "    dien_tich = 0\n",
        "    x_hien_tai = -10 * do_lech_chuan  # bắt đầu từ xa bên trái phân phối\n",
        "    while x_hien_tai < x:\n",
        "        dien_tich += ham_mat_do(x_hien_tai, trung_binh, do_lech_chuan) * buoc\n",
        "        x_hien_tai += buoc\n",
        "    return dien_tich\n",
        "\n",
        "# (a) Tính P(X < 2)\n",
        "xac_suat_a = ham_phan_phoi_tich_luy(2, trung_binh, do_lech_chuan)\n",
        "print(\"P(X < 2) =\", xac_suat_a)\n",
        "\n",
        "# (b) Tính P(4 <= X <= 8)\n",
        "xac_suat_b = ham_phan_phoi_tich_luy(8, trung_binh, do_lech_chuan) - ham_phan_phoi_tich_luy(4, trung_binh, do_lech_chuan)\n",
        "print(\"P(4 <= X <= 8) =\", xac_suat_b)\n"
      ]
    },
    {
      "cell_type": "markdown",
      "id": "2fd5513c",
      "metadata": {
        "id": "2fd5513c"
      },
      "source": [
        "**2.2 (0.5 point):** The number of bicycles crossing a bridge during the day follow a Poisson distribution with mean 28. What is the probability that on a randomly selected day 15 bicycles would have crossed the bridge?"
      ]
    },
    {
      "cell_type": "code",
      "execution_count": 30,
      "id": "MWGyHPFDGoW2",
      "metadata": {
        "id": "MWGyHPFDGoW2",
        "colab": {
          "base_uri": "https://localhost:8080/"
        },
        "outputId": "57f84ba0-3274-4261-a59a-514a7ec17b39"
      },
      "outputs": [
        {
          "output_type": "stream",
          "name": "stdout",
          "text": [
            "Xác suất để có đúng 15 xe đạp qua cầu trong một ngày là: 0.002695413292172496\n"
          ]
        }
      ],
      "source": [
        "# your code\n",
        "# Bước 1: Định nghĩa các tham số\n",
        "trung_binh = 28  # Giá trị trung bình lambda\n",
        "so_xe_dap = 15   # Số lượng xe đạp mong muốn\n",
        "\n",
        "# Bước 2: Tính e^(-lambda)\n",
        "e = 2.718281828459045  # Giá trị xấp xỉ của hằng số e\n",
        "e_mu = e ** (-trung_binh)\n",
        "\n",
        "# Bước 3: Tính lambda^k\n",
        "mu_k = trung_binh ** so_xe_dap\n",
        "\n",
        "# Bước 4: Tính k! (giai thừa của k)\n",
        "def giai_thua(n):\n",
        "    if n == 0 or n == 1:\n",
        "        return 1\n",
        "    ket_qua = 1\n",
        "    for i in range(2, n + 1):\n",
        "        ket_qua *= i\n",
        "    return ket_qua\n",
        "\n",
        "so_xe_dap_giai_thua = giai_thua(so_xe_dap)\n",
        "\n",
        "# Bước 5: Tính xác suất P(X = k) theo công thức Poisson\n",
        "xac_suat = (mu_k * e_mu) / so_xe_dap_giai_thua\n",
        "\n",
        "# Kết quả\n",
        "print(\"Xác suất để có đúng 15 xe đạp qua cầu trong một ngày là:\", xac_suat)\n",
        "\n",
        "\n",
        "\n",
        "\n"
      ]
    },
    {
      "cell_type": "markdown",
      "id": "7500001c",
      "metadata": {
        "id": "7500001c"
      },
      "source": [
        "**2.3 (0.5 point):** Suppose that service times at a call center are exponentially distributed with an average call lasting 8 minutes. If there are 3 call center agents serving calls, what is the probability that each person completes his or her work in 10 minutes? Assume that the duration of each call is independent of every other call."
      ]
    },
    {
      "cell_type": "code",
      "execution_count": 31,
      "id": "d0f0c4c9",
      "metadata": {
        "id": "d0f0c4c9",
        "colab": {
          "base_uri": "https://localhost:8080/"
        },
        "outputId": "d38e90b9-e739-46a3-e465-b509bae2b69f"
      },
      "outputs": [
        {
          "output_type": "stream",
          "name": "stdout",
          "text": [
            "Xác suất để một nhân viên hoàn thành cuộc gọi trong 10 phút: 0.7134975056694508\n",
            "Xác suất để cả 3 nhân viên hoàn thành cuộc gọi trong 10 phút: 0.3632263759300928\n"
          ]
        }
      ],
      "source": [
        "# your code\n",
        "# Thông tin bài toán\n",
        "trung_binh_cuoc_goi = 8   # Thời gian trung bình của một cuộc gọi (phút)\n",
        "so_nhan_vien = 3          # Số nhân viên\n",
        "thoi_gian_hoan_thanh = 10  # Thời gian yêu cầu để hoàn thành cuộc gọi (phút)\n",
        "\n",
        "# Tính tham số lambda của phân phối mũ\n",
        "lam = 1 / trung_binh_cuoc_goi\n",
        "x = lam * thoi_gian_hoan_thanh\n",
        "\n",
        "# Hàm tính xấp xỉ của e^(-x) bằng khai triển Taylor\n",
        "def exp_mu_am_x(x, so_hang=10):\n",
        "    ket_qua = 0\n",
        "    for i in range(so_hang):\n",
        "        # Tính x^i và i! (giai thừa của i)\n",
        "        x_mu_i = x ** i\n",
        "        giai_thua_i = 1\n",
        "        for j in range(1, i + 1):\n",
        "            giai_thua_i *= j\n",
        "        ket_qua += ((-1) ** i) * (x_mu_i / giai_thua_i)\n",
        "    return ket_qua\n",
        "\n",
        "# Tính e^(-lambda * t) với khai triển Taylor\n",
        "e_mu_am_x = exp_mu_am_x(x)\n",
        "\n",
        "# Tính xác suất để một nhân viên hoàn thành cuộc gọi trong vòng 10 phút\n",
        "xac_suat_1_nhan_vien = 1 - e_mu_am_x\n",
        "\n",
        "# Tính xác suất để cả 3 nhân viên hoàn thành cuộc gọi trong vòng 10 phút\n",
        "xac_suat_3_nhan_vien = xac_suat_1_nhan_vien ** so_nhan_vien\n",
        "print(\"Xác suất để cả 3 nhân viên hoàn thành cuộc gọi trong 10 phút:\", xac_suat_3_nhan_vien)\n"
      ]
    },
    {
      "cell_type": "markdown",
      "id": "d920a8f8",
      "metadata": {
        "id": "d920a8f8"
      },
      "source": [
        "**2.4 (0.5 point):** From the experience, it is seen that 5% of the tyres produced by the machine are defective. Out of the 10 tyres produced, find the probability that at most 4 are defective."
      ]
    },
    {
      "cell_type": "code",
      "execution_count": 42,
      "id": "061ac19f",
      "metadata": {
        "id": "061ac19f",
        "colab": {
          "base_uri": "https://localhost:8080/"
        },
        "outputId": "c8fac11f-5cbc-4fb3-d319-dbe4d66ba0a6"
      },
      "outputs": [
        {
          "output_type": "stream",
          "name": "stdout",
          "text": [
            "Xác suất để có nhiều nhất 4 sản phẩm lỗi trong 10 sản phẩm là: 0.9999363101685543\n"
          ]
        }
      ],
      "source": [
        "# Thông tin bài toán\n",
        "n = 10          # Tổng số sản phẩm (lốp xe)\n",
        "p = 0.05        # Xác suất một sản phẩm bị lỗi\n",
        "k_toi_da = 4    # Số sản phẩm lỗi tối đa để tính xác suất P(X <= 4)\n",
        "\n",
        "# Hàm tính giai thừa\n",
        "def giai_thua(x):\n",
        "    ket_qua = 1\n",
        "    for i in range(1, x + 1):\n",
        "        ket_qua *= i\n",
        "    return ket_qua\n",
        "\n",
        "# Hàm tính tổ hợp C(n, k)\n",
        "def to_hop(n, k):\n",
        "    return giai_thua(n) // (giai_thua(k) * giai_thua(n - k))\n",
        "\n",
        "# Hàm tính xác suất nhị thức P(X = k)\n",
        "def xac_suat_nhi_thuc(n, k, p):\n",
        "    return to_hop(n, k) * (p ** k) * ((1 - p) ** (n - k))\n",
        "\n",
        "# Tính và in xác suất P(X <= 4) trong một dòng\n",
        "print(\"Xác suất để có nhiều nhất 4 sản phẩm lỗi trong 10 sản phẩm là:\", sum(xac_suat_nhi_thuc(n, k, p) for k in range(0, k_toi_da + 1)))\n"
      ]
    },
    {
      "cell_type": "markdown",
      "id": "e21fed4a",
      "metadata": {
        "id": "e21fed4a"
      },
      "source": [
        "# Question 3: Using Monte Carlo method to estimate π (1.5 points)\n",
        "\n",
        "**Consider a circle C centered at (0,0) with a diameter of 1.** This question asks students to explore how the Monte Carlo method can be used to estimate the value of π through random number generation. Students need to draw illustrations (by code or hand-drawn). (1 point)"
      ]
    },
    {
      "cell_type": "markdown",
      "id": "sTyP0Wxi-kuI",
      "metadata": {
        "id": "sTyP0Wxi-kuI"
      },
      "source": [
        "#your answer\n",
        "\n",
        "```\n",
        "# This is formatted as code\n",
        "```\n",
        "\n"
      ]
    },
    {
      "cell_type": "markdown",
      "id": "gRRjeF2w8Hjl",
      "metadata": {
        "id": "gRRjeF2w8Hjl"
      },
      "source": [
        "Now, imagine a square that circumscribes the circle. Randomly select points within the square, and use the Monte Carlo method to estimate the value of π based on the proportion of points that fall inside the circle. Write a simulator function of selecting point n times to estimate the π number. (1 point)"
      ]
    },
    {
      "cell_type": "code",
      "execution_count": null,
      "id": "49ec7262",
      "metadata": {
        "id": "49ec7262"
      },
      "outputs": [],
      "source": [
        "def estimate_pi(n):\n",
        "    pi = 0\n",
        "    # your code\n",
        "    return pi"
      ]
    },
    {
      "cell_type": "markdown",
      "id": "t4R8so8QKDrv",
      "metadata": {
        "id": "t4R8so8QKDrv"
      },
      "source": [
        "# Question 4: Estimating the population mean from sample mean (2.0 points)\n",
        "\n",
        "Let $\\{X_1, X_2, \\ldots, X_{30}\\}$ be a random sample from the population with an unknown probability density function f(x,θ), where θ∈Θ. We have **equation (1): $E[\\bar{X}]=\\mu$**.\n",
        "\n",
        "```\n",
        "Need to use your STUDENT ID to get the value for the code below. READ COMMENT IN CODE.\n",
        "```"
      ]
    },
    {
      "cell_type": "code",
      "execution_count": 44,
      "id": "dBMZ0cGHLNcf",
      "metadata": {
        "id": "dBMZ0cGHLNcf"
      },
      "outputs": [],
      "source": [
        "import numpy as np\n",
        "\n",
        "# Example: your Student ID 523H0154 => get code: 0154\n",
        "a = 1 # two first digits in our code   => 01\n",
        "b = 54 # two last digits in our code   => 54\n",
        "population_data = list(np.random.normal(a, b, 10000))"
      ]
    },
    {
      "cell_type": "markdown",
      "id": "07tkplYzMv7n",
      "metadata": {
        "id": "07tkplYzMv7n"
      },
      "source": [
        "Let the population consist of 10000 elements, as described above. Please explain each step to demonstrate Equation (1) by selecting a random sample of size 30 from the population's distribution, including illustrative code."
      ]
    },
    {
      "cell_type": "markdown",
      "id": "3CpSACZFOh8J",
      "metadata": {
        "id": "3CpSACZFOh8J"
      },
      "source": [
        "\n",
        "```\n",
        "# Your answer\n",
        "```"
      ]
    },
    {
      "cell_type": "code",
      "execution_count": null,
      "id": "11B2rYLdNs-n",
      "metadata": {
        "id": "11B2rYLdNs-n"
      },
      "outputs": [],
      "source": [
        "# your code"
      ]
    },
    {
      "cell_type": "markdown",
      "id": "d25c262d",
      "metadata": {
        "id": "d25c262d"
      },
      "source": [
        "# Question 5: (1.5 points) [Spam email classification]\n",
        "We're now trying to find if emails are spam. Let's say that we have a big data set of 100 emails, and 20 of them are actually spam. So we want to build a classifier. The easiest classifier that we can find is one that says that everything is spam with a 20% probability, because that's all we know so far. So that's a pretty simple classifier. We want to find something more elaborate, and so we're going to look at a feature.\n",
        "\n",
        "We're going to start noticing that the spam emails tend to have words like \"lottery\". So we're going to try to put the word \"lottery\" into our spam detector. We're going to do the following, we're going to see how many emails among the spam ones contain the word “lottery” and we notice that there's 14 of them. Now we're going to look at how many of the emails that are not spam, have the word \"lottery\". So there's 10 of them. So now, what is the probability that an email containing the word \"lottery\" is spam?"
      ]
    },
    {
      "cell_type": "code",
      "execution_count": null,
      "id": "974b4456",
      "metadata": {
        "id": "974b4456"
      },
      "outputs": [],
      "source": [
        "# your code\n",
        "# Thông tin đã cho\n",
        "tong_so_email = 100\n",
        "so_email_spam = 20\n",
        "so_email_khong_spam = 80\n",
        "\n",
        "# Số email chứa từ \"lottery\" trong các email spam và không spam\n",
        "so_email_spam_chua_lottery = 14\n",
        "so_email_khong_spam_chua_lottery = 10\n",
        "\n",
        "# Bước 1: Tính xác suất P(spam)\n",
        "tu_so_spam = so_email_spam         # Tử số của P(spam)\n",
        "mau_so_spam = tong_so_email         # Mẫu số của P(spam)\n",
        "\n",
        "# Bước 2: Tính xác suất P(lottery | spam)\n",
        "tu_so_lottery_khi_spam = so_email_spam_chua_lottery  # Tử số của P(lottery | spam)\n",
        "mau_so_lottery_khi_spam = so_email_spam              # Mẫu số của P(lottery | spam)\n",
        "\n",
        "# Bước 3: Tính xác suất P(lottery)\n",
        "tu_so_lottery = so_email_spam_chua_lottery + so_email_khong_spam_chua_lottery  # Tử số của P(lottery)\n",
        "mau_so_lottery = tong_so_email  # Mẫu số của P(lottery)\n",
        "\n",
        "# Bước 4: Tính P(spam | lottery) = (P(lottery | spam) * P(spam)) / P(lottery)\n",
        "# Tính tử số của P(spam | lottery)\n",
        "tu_so_spam_khi_lottery = tu_so_lottery_khi_spam * tu_so_spam * mau_so_lottery\n",
        "# Tính mẫu số của P(spam | lottery)\n",
        "mau_so_spam_khi_lottery = mau_so_lottery_khi_spam * tu_so_lottery * mau_so_spam\n",
        "\n",
        "# Kết quả cuối cùng\n",
        "xac_suat_spam_khi_lottery = tu_so_spam_khi_lottery / mau_so_spam_khi_lottery\n",
        "\n",
        "# In kết quả\n",
        "print(\"Xác suất để một email chứa từ 'lottery' là spam là:\", xac_suat_spam_khi_lottery)\n"
      ]
    },
    {
      "cell_type": "markdown",
      "id": "5a88935a",
      "metadata": {
        "id": "5a88935a"
      },
      "source": [
        "# **This is the end of the essay!**"
      ]
    }
  ],
  "metadata": {
    "colab": {
      "provenance": [],
      "include_colab_link": true
    },
    "kernelspec": {
      "display_name": "Python 3",
      "language": "python",
      "name": "python3"
    },
    "language_info": {
      "codemirror_mode": {
        "name": "ipython",
        "version": 3
      },
      "file_extension": ".py",
      "mimetype": "text/x-python",
      "name": "python",
      "nbconvert_exporter": "python",
      "pygments_lexer": "ipython3",
      "version": "3.11.9"
    }
  },
  "nbformat": 4,
  "nbformat_minor": 5
}